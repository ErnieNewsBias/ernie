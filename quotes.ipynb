{
 "cells": [
  {
   "cell_type": "code",
   "execution_count": 15,
   "metadata": {},
   "outputs": [],
   "source": [
    "# Cell 1: Import libraries\n",
    "import numpy as np\n",
    "from sentence_transformers import SentenceTransformer\n",
    "from sklearn.metrics.pairwise import cosine_similarity\n",
    "import re"
   ]
  },
  {
   "cell_type": "code",
   "execution_count": 16,
   "metadata": {},
   "outputs": [],
   "source": [
    "# Cell 2: Input your article text\n",
    "# Replace this with your actual article\n",
    "text = \"\"\"\n",
    "Ten Legal Reasons to Reject Roe\n",
    "By Susan E. Wills, Esq.\n",
    "Respect Life Program 2003\n",
    "Decisions of the U.S. Supreme Court rarely attract much public interest. One news cycle and a few days' discussion in the op-ed section is probably the norm for even the most important and sweeping decisions. The average person probably has to cast back to a high school history course to recall the names of even a few landmark cases other than Miranda v. Arizona (known mainly from the scripts of popular police shows).\n",
    "But one Supreme Court decision eclipses all others in the past century. Far from being forgotten, in the thirty years since Roe v. Wade announced that the \"constitutional\" right to privacy encompasses a woman's decision to abort her child, its fame (or infamy) just keeps growing.\n",
    "How Roe is Perceived\n",
    "For many Americans, Roe is a symptom of and catalyst for a continuing decline in American culture and institutions. It represents a tragic failure of the government, an abdication of its duty to defend the vulnerable and innocent. The judicially-created regime permitting abortion on request throughout pregnancy has eroded principles on which this nation was founded – the sanctity of life, the equal dignity of all, and impartial justice. Even the fundamental principle of self-government is shaken when seven unelected judges can overturn the will of the people expressed in the laws of 50 states. And how does one begin to assess the meaning and impact of destroying over 40 million children?\n",
    "Many other Americans, less attuned to public policy matters, hold a very different view of Roe v. Wade. They see Roe as being immutable, permanent, \"settled law.\" \"Abortion is a constitutional right.\" End of discussion. In thirty years, the Roe abortion license has been elevated by some to the stature of \"freedom of speech,\" \"trial by jury\" and other bedrock American principles.\n",
    "It is not surprising that many people share this distorted view of Roe v. Wade. For thirty years, the abortion industry has refined and perfected this message. Advocates like Planned Parenthood's president, Gloria Feldt, proclaim (with no apparent irony): \"It's been 30 years since women were guaranteed the basic human right to make their own childbearing choices – a right as intrinsic as the right to breathe and to walk, to work and to think, to speak our truths, to thrive, to learn, and to love.\"\n",
    "Roe has also become a lodestar for abortion advocates and the politicians who support their agenda. Any event or policy affecting a child before or near birth is minutely scrutinized for its potential to \"undermine Roe v. Wade.\" Anything (and anyone) that threatens the shaky \"constitutionality\" of Roe must be stopped. For example, state laws which punish violent attacks on unborn children and their mothers are denounced as schemes \"designed to chip away at the constitutional rights of women.\" Even expanding eligibility under the State Children's Health Insurance Program to provide prenatal care to children from conception onward is attacked as \"a guerilla attack on abortion rights.\"2\n",
    "Allegiance to Roe has become the sine qua non for presidential aspirants of one political party and a litmus test used by many politicians in evaluating judicial nominees. Senate filibusters are being used to block confirmation votes on nominees. Individuals who have received the American Bar Association's highest recommendation based on their knowledge of law, their integrity and judicial temperament are blocked chiefly because abortion lobbyists suspect they are not sufficiently deferential to Roe v. Wade.\n",
    "Already two presidential candidates seeking election in 2004 have announced that, if elected, they would appoint no one to the Supreme Court \"if they don't commit to supporting Roe v. Wade and a woman's right to choose.\" This, too, is an unprecedented admission. They strain to explain why their position does not constitute a single issue \"litmus test\" for judicial appointees: \"The focus is on the constitutional right that Roe established in America,\" says one. \"I want jurists to agree, to swear to uphold the Constitution.\" Are abortion and the Constitution really synonymous?\n",
    "Many Americans, including members of Congress, believe or act as if Roe v. Wade and the U.S. Constitution have equal authority. They are wrong, both as to Roe's place in American constitutional law and as to the duty of citizens and judges to follow it unquestioningly. Few decisions in the history of the Supreme Court have cried out so loudly for reversal, on both moral and legal grounds. And rarely has any decision been so fraught with conspicuous errors of law, fact and reasoning as the majority opinion in Roe.\n",
    "This article is addressed to all who may think that Roe deserves a measure of deference as a landmark of constitutional law (notwithstanding its immoral outcome). Not so! Legally speaking, Roe is an abomination, and an embarrassment to lawyers and public officials who feel compelled to defend it.\n",
    "Who Says So?\n",
    "Among the legal scholars who have roundly criticized the Court's ruling in Roe as not being grounded in the U.S. Constitution are the following:\n",
    "Six justices of the U.S. Supreme Court, unfortunately not simultaneously seated – White, Rehnquist, Scalia, Thomas, Kennedy3 and O'Connor4;\n",
    "Virtually every recognized constitutional scholar who has published a book or article on Roe – including many, like Harvard's Laurence Tribe, who support Roe's outcome on other grounds (although he's switched grounds over the years).5 Yale Law School professor John Hart Ely spoke for many when he stated: Roe v. Wade \"is bad because it is bad constitutional law, or rather because it is not constitutional law and gives almost no sense of an obligation to try to be\";6 and\n",
    "Edward Lazarus, a former law clerk to Roe's author, Justice Harry Blackmun, who writes:\n",
    "As a matter of constitutional interpretation and judicial method, Roe borders on the indefensible. I say this as someone utterly committed to the right to choose, as someone who believes such a right has grounding elsewhere in the Constitution instead of where Roe placed it, and as someone who loved Roe's author like a grandfather. . . . .\n",
    "What, exactly, is the problem with Roe? The problem, I believe, is that it has little connection to the Constitutional right it purportedly interpreted. A constitutional right to privacy broad enough to include abortion has no meaningful foundation in constitutional text, history, or precedent. ...\n",
    "The proof of Roe's failings comes not from the writings of those unsympathetic to women's rights, but from the decision itself and the friends who have tried to sustain it. Justice Blackmun's opinion provides essentially no reasoning in support of its holding. And in the almost 30 years since Roe's announcement, no one has produced a convincing defense of Roe on its own terms.7\n",
    "Ten Legal Reasons to Condemn Roe\n",
    "1.    The Court's decision in Roe v. Wade exceeded its constitutional authority.\n",
    "Under the legal system established by the U.S. Constitution, the power to make laws is vested in Congress and retained by state legislatures. It is not the role of the Supreme Court to substitute the policy preferences of its members for those expressed in laws enacted by the people's elected representatives. The role of the judiciary in constitutional review is to determine if the law being challenged infringes on a constitutionally protected right.\n",
    "Justice O'Connor reiterates this principle, quoting Chief Justice Warren Burger:\n",
    "Irrespective of what we may believe is wise or prudent policy in this difficult area, \"the Constitution does not constitute us as 'Platonic Guardians' nor does it vest in this Court the authority to strike down laws because they do not meet our standards of desirable social policy, 'wisdom,' or 'common sense.'\"8\n",
    "In Roe v. Wade and its companion case, Doe v. Bolton, however, the Court struck down criminal laws of Texas and Georgia which outlawed certain abortions by finding that these laws (and those of the other 48 states) violated a \"right of privacy\" that \"is broad enough to encompass a woman's decision whether or not to terminate her pregnancy.\" Such a right is nowhere mentioned in the Constitution nor derivable from values embodied therein.\n",
    "In his dissenting opinion in Doe v. Bolton, Justice Byron White, joined by Justice William Rehnquist, wrote:\n",
    "I find nothing in the language or history of the Constitution to support the Court's judgment. The Court simply fashions and announces a new constitutional right for pregnant mothers ... and, with scarcely any reason or authority for its action, invests that right with sufficient substance to override most existing state abortion statutes. The upshot is that the people and the legislatures of the 50 states are constitutionally disentitled to weigh the relative importance of the continued existence and development of the fetus, on the one hand, against a spectrum of possible impacts on the mother, on the other hand. As an exercise of raw judicial power, the Court perhaps has authority to do what it does today; but, in my view, its judgment is an improvident and extravagant exercise of the power of judicial review that the Constitution extends to this Court.\n",
    "2. The Court misrepresents the history of abortion practice and attitudes toward abortion.\n",
    "The apparent purpose of the Roe opinion's long historical excursion is to create the impression that abortion had been widely practiced and unpunished until the appearance of restrictive laws in the prudishly Victorian 19th century. One example is adequate to show how distorted is Justice Harry Blackmun's rendition of history. He must overcome a huge hurdle in the person of Hippocrates, the \"Father of Medicine,\" and his famous Oath which has guided medical ethics for over 2,000 years. The Oath provides in part: \"I will give no deadly medicine to anyone if asked, nor suggest any such counsel; and in like manner I will not give to a woman a pessary to produce abortion.\"9 This enduring standard was followed until the Roe era and is reflected in Declarations of the World Medical Association through 1968: \"I will maintain the utmost respect for human life, from the time of conception. ...\"10 But Justice Blackmun dismisses this universal, unbroken ethical tradition as nothing more than the manifesto of a fringe Greek sect, the Pythagoreans, to which Hippocrates is alleged to have belonged!\n",
    "3. The majority opinion in Roe wrongly characterizes the common law of England regarding the status of abortion.\n",
    "The Court's strained analysis and conclusion – \"it now appears doubtful that abortion was ever firmly established as a common-law crime even with respect to the destruction of a quick fetus\" – are rejected by many legal scholars.11\n",
    "William Blackstone's Commentaries on the Laws of England (1765-1769), an exhaustive and definitive discussion of English common law as it was adopted by the United States shows that the lives of unborn children were valued and protected, even if their beginning point was still thought to be \"quickening\" rather than conception:\n",
    "Life is the immediate gift of God, a right inherent by nature in every individual; and it begins in contemplation of law as soon as the infant is able to stir in the mother's womb.    For if a woman is quick with child, and by a potion, or otherwise, killeth it in her womb ... this, though not murder, was by the ancient law homicide or manslaughter. But at present it is not looked upon in quite so atrocious a light, though it remains a very heinous misdemeanor.12\n",
    "Until well into the 19th century, it was assumed that a child's life may not begin – and certainly could not be proven to have begun to satisfy criminal evidentiary standards – prior to the time her movements were felt by the mother (\"quickening\"), at approximately 16-18 weeks' gestation. The Roe Court looks at the distinction in common law concerning abortions attempted before or after \"quickening,\" and wrongly infers that the law allowed women great latitude to abort their children in the early months of pregnancy. This is like saying people had a general right to spread computer viruses before such acts were criminally prosecuted.\n",
    "4. The Court distorts the purpose and legal weight of state criminal abortion statutes.\n",
    "In the 19th century, in virtually every state and territory, laws were enacted to define abortion as a crime throughout pregnancy. They contained only narrow exceptions, generally permitting abortion only if necessary to preserve the mother's life. The primary reason for stricter abortion laws, according to their legislative history, was to afford greater protection to unborn children. This reflected a heightened appreciation of prenatal life based on new medical knowledge. It is significant that the medical profession spearheaded efforts to afford greater protection to unborn lives than had been recognized under the common law's archaic \"quickening\" distinction.\n",
    "The existence of such laws, and their clear purpose of protecting the unborn, rebuts the Court's claim that abortion has always been considered a liberty enjoyed by women. These laws show broad acceptance of the view that the life of an unborn child is valuable and should be protected unless the mother's life is at risk. In that case, of course, both mother and child were likely to perish, given the primitive care then available for infants born prematurely.\n",
    "How does the Court get around the impressive body of laws giving clear effect to the state's interest in protecting unborn lives? It attempts to devalue them by ascribing a completely different purpose: the desire to protect the mother's life and health from a risky surgical procedure. Applying the maxim \"if the reason for a law has ceased to exist, the law no longer serves any purpose,\" the Court declares that abortion is now \"safer than childbirth.\" Therefore, laws banning abortion have outlived their purpose.\n",
    "5. A privacy right to decide to have an abortion has no foundation in the text or history of the Constitution.\n",
    "Roe v. Wade locates a pregnant woman's \"constitutional\" right of privacy to decide whether or not to abort her child either \"in the Fourteenth Amendment's concept of personal liberty ..., as we feel it is, or ... in the Ninth Amendment's reservation of rights to the people.\"\n",
    "The Court does not even make a pretense of examining the intent of the drafters of the Fourteenth Amendment, to determine if it was meant to protect a privacy interest in abortion. Clearly it was not. The Fourteenth Amendment was not intended to create any new rights, but to secure to all persons, notably including freed slaves and their descendants, the rights and liberties already guaranteed by the Constitution.\n",
    "Several rhetorical devices are used to mask this absence of constitutional grounding. The Court mentions several specifically enumerated rights which concern an aspect of privacy, for example, the Fourth Amendment's \"right of the people to be secure in their houses, papers, and effects, against unreasonable searches and seizures.\" However, the Court fails to connect these to the newly found \"right\" to abortion, because no logical connection exists.\n",
    "Justice Blackmun attempts to graft abortion onto the line of decisions recognizing privacy/liberty rights in the following spheres: marriage (Loving v. Virginia, striking down a ban on interracial marriage); childrearing (Meyer v. Nebraska and Pierce v. Society of Sisters, upholding parental decision-making regarding their children's education); procreation (Skinner v. Oklahoma, finding unconstitutional a state law mandating sterilization of inmates found guilty of certain crimes); and contraceptive use by a married couple (Griswold v. Connecticut). Certainly marriage, and building and raising a family are fundamental aspects of human life that predate human laws and nations. They are implicit in the concept of liberty and the pursuit of happiness, though even these rights are subject to state limitation, such as laws against bigamy, incest, and child abuse and neglect.\n",
    "But abortion does not fit neatly among these spheres of privacy. It negates them. Abortion is not akin to childrearing; it's child destruction. A pregnant woman's right to abort nullifies the right to procreate upheld in \"Skinner.\" He no longer has a right to bring children into the world, but only a right to fertilize an ovum, which his mate can then destroy without his knowledge or consent. The fear of government intruding into the marital bedroom by searching for evidence of contraceptive use drove the Griswold Court to find a privacy right for couples to use contraception in the \"penumbras, formed by emanations from\" various guarantees in the Bill of Rights. But however closely abortion and contraception may be linked in purpose and effect, they are worlds apart in terms of privacy. Abortions do not take place in the sacred precincts of marital bedrooms, preventing them does not require investigation of private sexual behavior, and they involve personnel other than the spouses.\n",
    "A \"privacy right\" large enough to encompass abortion could also be applied to virtually any conduct performed outside the public view, including child abuse, possession of pornography or using illicit drugs. The liberty interest to be protected from state regulation is never really defined in Roe. Instead the Court describes at some length the hardships some women face, not from pregnancy, but from raising children:\n",
    "Maternity, or additional offspring, may force upon the woman a distressful life and future. Psychological harm may be imminent. Mental and physical health may be taxed by childcare. There is also the distress, for all concerned, associated with the unwanted child, and there is the problem of bringing a child into a family already unable, psychologically and otherwise, to care for it.\n",
    "By this reasoning, one might argue that Roe's liberty encompasses ridding oneself of unwanted toddlers! Ordinarily, the defense of rights requires us to forgo lethal methods and use means likely to create the least harm to others. We may not, for example, surround our house and yard with a high voltage fence to deter trespassers. This principle is upended in the abortion context. Adoption, for example, would effectively eliminate all the \"hardships\" of raising \"unwanted\" children by non-lethal means.\n",
    "6. Although it reads the 14th Amendment extremely expansively to include a right of privacy to decide whether to abort a child, the Court in Roe adopts a very narrow construction of the meaning of \"persons\" to exclude unborn children.\n",
    "Much is made of the fact that \"person\" as used elsewhere in the Constitution does not refer to unborn children when, for example, discussing qualifications for public office or census-taking. That point proves nothing. The Supreme Court has held that corporations are \"persons\" within the meaning of the 14th Amendment and they are not counted in the census, nor can a corporation grow up to be president.\n",
    "The Roe Court also ignored the clear and uncontested biological evidence before them that individual human lives begin at conception: \"We need not resolve the difficult question of when life begins.\" This is question determined by science, not philosophers or theologians or politicians. But while seeming to sidestep the question, the Court in fact resolved the question at birth, by allowing abortion to be legal throughout pregnancy. In the same vein, the Court refers to the unborn child as only a \"potential life\" (indeed, an actual life) from the moment of his or her conception.\n",
    "The Roe opinion states that a contrary finding on \"personhood\" would produce the opposite result (presumably foreclosing the mother's privacy right to an abortion). One does not have to be a \"person\" in the full constitutional sense, however, for a state to validly protect one's life. Dogs can be protected from killing although they are not \"persons.\"13 And under the Endangered Species Act (ESA), people are prosecuted, fined and jailed for acts that may harm creatures, such as sea turtles, that are not \"persons\" in the full constitutional sense. Sea turtles are protected not only after they are hatched, but even while in the egg. In fact, each sea turtle egg removed from its nest constitutes a separate violation under the ESA, regardless of whether the sea turtle egg contained an embryo that was alive or \"quick\" or \"viable\" or even already deceased at the time of the taking.\n",
    "7. The Roe Court assumed the role of a legislature in establishing the trimester framework.\n",
    "Roe holds that in the first trimester of pregnancy, the mother's \"privacy interest\" in an abortion trumps state regulation. From the end of the first trimester to the child's \"viability\" – which the Court presumed to be no earlier than 26 weeks – the state can regulate abortion practice only in ways reasonably related to advancing the mother's health. In the final trimester, the state – in the interest of protecting the \"potential life\" of the child – can regulate and even proscribe abortion, except where necessary to preserve the mother's \"life or health.\" Health (see point 8 below) is the exception that swallows the rule.\n",
    "Pre-decision memoranda among members of the Roe Court acknowledged the serious flaw in establishing arbitrary, rigid time frames. Justice Blackmun himself admitted it was arbitrary.14 A reply memorandum from Justice Potter Stewart stated:\n",
    "One of my concerns with your opinion as presently written is ... in its fixing of the end of the first trimester as the critical point for valid state action. ... I wonder about the desirability of the dicta being quite so inflexibly \"legislative.\"\n",
    "My present inclination would be to allow the States more latitude to make policy judgments. ...\"15\n",
    "Geoffrey R. Stone, a law clerk to Justice Brennan when Roe was decided, was recently quoted as saying: \"Everyone in the Supreme Court, all the justices, all the law clerks knew it was 'legislative' or 'arbitrary.'\"16\n",
    "Justices O'Connor, White and Rehnquist denounced the arbitrary trimester framework in O'Connor's dissenting opinion in Akron:\n",
    "[There] is no justification in law or logic for the trimester framework adopted in Roe and employed by the Court today. ... [That] framework is clearly an unworkable means of balancing the fundamental right and the compelling state interests that are indisputably implicated.\n",
    "The majority opinion of Justice Rehnquist in Webster v. Reproductive Health Services states:\n",
    "The key elements of the Roe framework – trimesters and viability – are not found in the text of the Constitution or in any place else one would expect to find a constitutional principle. ... the result has been a web of legal rules that have become increasingly intricate, resembling a code of regulations rather than a body of constitutional doctrine. As Justice White has put it, the trimester framework has left this Court to serve as the country's \"ex officio medical board with powers to approve or disapprove medical and operative practices and standards throughout the United States.\"\n",
    "8. What Roe gives, Doe takes away.\n",
    "Many Americans believe that abortion is legal only in the first trimester (or first and second trimester). Many pollsters and media outlets continue to characterize Roe v. Wade as the case which \"legalized abortions in the first three months after conception.\"17 In a recent television appearance, NOW's former president Patricia Ireland falsely claimed that \"thirty-six states outlaw abortion in the third trimester.\"\n",
    "As noted above, under Roe state laws banning late-term abortions must contain a \"health\" exception. Health is defined in Roe's companion case, Doe v. Bolton, as including \"all factors — physical, emotional, psychological, familial, and the woman's age — relevant to the wellbeing of the patient. All these factors may relate to health.\" This definition negates the state's interest in protecting the child, and results in abortion on request throughout all nine months of pregnancy. The fact that the Court buries its improbably broad definition of health in the largely unread opinion in Doe v. Bolton makes it no less devastating.\n",
    "9. The Court describes the right to abortion as \"fundamental.\"\n",
    "The Supreme Court has found certain rights fundamental. Expressed or implied in the Constitution, they are considered \"deeply rooted in the history and traditions\" of the American people or \"implicit in the concept of ordered liberty,\" such as the free exercise of religion, the right to marry, the right to a fair trial and equal protection. A state law infringing on a fundamental right is reviewed under a rigorous \"strict scrutiny\" standard. In effect, there is a presumption against constitutionality. The Roe Court claims abortion is fundamental on the ground that it is lurking in the penumbras and emanations of the Bill of Rights or the 14th Amendment, along with privacy rights like contraceptive use. It's ludicrous to claim abortion is deeply rooted in American history or traditions or that our governmental system of \"ordered liberty\" implicitly demands the rights to destroy one's child, but it was an effective way to foreclose state regulations of abortion. The strict scrutiny test was later abandoned in Casey.\n",
    "10.    Despite the rigid specificity of the trimester framework, the opinion gives little guidance to states concerning the permissible scope of abortion regulation.\n",
    "Abortion decisions that followed Roe chronologically have not followed Roe jurisprudentially. Many decisions have five separate opinions filed, often with no more than three justices concurring on most points. Eight separate opinions were filed in Stenberg v. Carhart (which effectively nullified laws in over two dozen states banning partial-birth abortion).\n",
    "The 1992 decision in Planned Parenthood of Southeastern Pa. v. Casey could have resulted in Roe's reversal. The Casey Joint Opinion (there being no majority opinion) comes close to conceding that Roe was wrongly decided:\n",
    "We do not need to say whether each of us, had we been Members of the Court when the valuation of the state interest came before it as an original matter, would have concluded, as the Roe Court did, that its weight is insufficient to justify a ban on abortions prior to viability even when it is subject to certain exceptions. The matter is not before us in the first instance, and, coming as it does after nearly 20 years of litigation in Roe's wake we are satisfied that the immediate question is not the soundness of Roe's resolution of the issue, but the precedential force that must be accorded to its holding.\n",
    "Instead they jettisoned Roe's trimester framework and standard of legislative review, but kept Roe alive: Chief Justice Rehnquist's dissent in Casey, in which he is joined in part by Justices White, Scalia and Thomas states:\n",
    "Roe decided that a woman had a fundamental right to an abortion. The joint opinion rejects that view. Roe decided that abortion regulations were to be subjected to \"strict scrutiny,\" and could be justified only in the light of \"compelling state interests.\" The joint opinion rejects that view. ... Roe analyzed abortion regulation under a rigid trimester framework, a framework that has guided this Court's decision-making for 19 years. The joint opinion rejects that framework. ...\n",
    "Whatever the \"central holding\" of Roe that is left after the joint opinion finishe[d] ... Roe continues to exist, but only in the way a storefront on a western movie set exists: a mere facade to give the illusion of reality.\n",
    "And later in that dissent:\n",
    "Roe v. Wade stands as a sort of judicial Potemkin village, which may be pointed out to passers-by as a monument to the importance of adhering to precedent. But behind the façade, an entirely new method of analysis, without any roots in constitutional law, is imported to decide the constitutionality of state laws regulating abortion. Neither stare decisis nor \"legitimacy\" are truly served by such an effort.\n",
    "Roe v. Wade must be reversed\n",
    "Contrary to popular opinion, decisions of the U.S. Supreme Court are \"often\" reversed.18 Stare decisis (let the decision stand) does not prevent reversal when the constitutional interpretation of a prior ruling is later understood to be flawed. Justice Rehnquist's dissent in Casey notes that the Court \"has overruled in whole or part 34 of its previous constitutional decisions\" in the past 21 years. It the Court's duty to reverse wrongly decided rulings. \"Justices take an oath to uphold the Constitution — not the glosses of their predecessors.\"19\n",
    "The Casey plurality weighed the \"integrity of the Court\" (its reputation for being above political considerations) as more important than fidelity to the Constitution and, not incidentally, more important than the continuing destruction of over one million children annually. Roe must be reversed to restore integrity to the Court, meaning to the Constitution, political rights to the people and their elected representatives, and most importantly, the right to life to children in the womb.\n",
    "\"\"\""
   ]
  },
  {
   "cell_type": "code",
   "execution_count": 17,
   "metadata": {},
   "outputs": [
    {
     "name": "stdout",
     "output_type": "stream",
     "text": [
      "Loading model: BAAI/bge-large-en-v1.5...\n",
      "Model loaded successfully!\n"
     ]
    }
   ],
   "source": [
    "# Cell 3: Load the embedding model\n",
    "model_id = \"BAAI/bge-large-en-v1.5\"\n",
    "\n",
    "print(f\"Loading model: {model_id}...\")\n",
    "try:\n",
    "    model = SentenceTransformer(model_id)\n",
    "    print(\"Model loaded successfully!\")\n",
    "except Exception as e:\n",
    "    print(f\"Error loading model: {e}\")\n",
    "    print(\"Please ensure you have installed sentence-transformers: pip install sentence-transformers\")\n",
    "    model = None  # Set model to None if loading fails"
   ]
  },
  {
   "cell_type": "code",
   "execution_count": 18,
   "metadata": {},
   "outputs": [
    {
     "name": "stdout",
     "output_type": "stream",
     "text": [
      "Text has been split into 5 chunks\n",
      "\n",
      "Chunk 1:\n",
      "The debate over climate change has intensified in recent years. Liberal activists argue that immediate government action is essential to prevent catas...\n",
      "\n",
      "Chunk 2:\n",
      "Healthcare remains another divisive issue. Progressive politicians champion universal healthcare systems, claiming healthcare is a fundamental human r...\n",
      "\n",
      "Chunk 3:\n",
      "The role of government in education sparks heated debates. Left-leaning educators push for increased federal funding and standardized approaches to en...\n",
      "\n",
      "... and more chunks\n"
     ]
    }
   ],
   "source": [
    "# Cell 4: Chunk the text into paragraphs and sentences\n",
    "def chunk_text(text):\n",
    "    # First split by paragraphs\n",
    "    paragraphs = [p.strip() for p in text.split('\\n') if p.strip()]\n",
    "    \n",
    "    # For each paragraph, further split into sentences if they're too long\n",
    "    chunks = []\n",
    "    for para in paragraphs:\n",
    "        # If paragraph is short enough, keep it as is\n",
    "        if len(para.split()) < 100:  # Rough estimate, adjust as needed\n",
    "            chunks.append(para)\n",
    "        else:\n",
    "            # Split into sentences for long paragraphs\n",
    "            sentences = re.split(r'(?<=[.!?])\\s+', para)\n",
    "            current_chunk = \"\"\n",
    "            \n",
    "            for sentence in sentences:\n",
    "                if len(current_chunk.split()) + len(sentence.split()) < 100:\n",
    "                    current_chunk += \" \" + sentence if current_chunk else sentence\n",
    "                else:\n",
    "                    if current_chunk:\n",
    "                        chunks.append(current_chunk.strip())\n",
    "                    current_chunk = sentence\n",
    "                    \n",
    "            if current_chunk:  # Add the last chunk\n",
    "                chunks.append(current_chunk.strip())\n",
    "    \n",
    "    return chunks\n",
    "\n",
    "# Apply chunking to our text\n",
    "chunks = chunk_text(text)\n",
    "\n",
    "print(f\"Text has been split into {len(chunks)} chunks\")\n",
    "for i, chunk in enumerate(chunks[:3]):  # Show first 3 chunks as examples\n",
    "    print(f\"\\nChunk {i+1}:\")\n",
    "    print(chunk[:150] + \"...\" if len(chunk) > 150 else chunk)\n",
    "\n",
    "if len(chunks) > 3:\n",
    "    print(\"\\n... and more chunks\")"
   ]
  },
  {
   "cell_type": "code",
   "execution_count": 19,
   "metadata": {},
   "outputs": [
    {
     "name": "stdout",
     "output_type": "stream",
     "text": [
      "Embedding 5 text chunks...\n",
      "Embedding complete. Shape: (5, 1024)\n"
     ]
    }
   ],
   "source": [
    "# Cell 5: Embed all chunks\n",
    "if model:\n",
    "    print(f\"Embedding {len(chunks)} text chunks...\")\n",
    "    chunk_embeddings = model.encode(chunks)\n",
    "    print(f\"Embedding complete. Shape: {chunk_embeddings.shape}\")\n",
    "else:\n",
    "    print(\"Skipping embedding because model could not be loaded.\")"
   ]
  },
  {
   "cell_type": "code",
   "execution_count": 20,
   "metadata": {},
   "outputs": [
    {
     "name": "stdout",
     "output_type": "stream",
     "text": [
      "Embedding bias detection queries...\n",
      "Query embedding complete. Shape: (4, 1024)\n"
     ]
    }
   ],
   "source": [
    "# Cell 6: Define and embed bias detection queries\n",
    "bias_queries = [\n",
    "    \"This text shows political partisan bias in its foundation or claims\",\n",
    "    \"This text uses politically charged language or framing\",\n",
    "    \"This statement presents a one-sided political viewpoint without acknowledging alternatives\",\n",
    "    \"This text contains unsupported political claims presented as facts\"\n",
    "]\n",
    "\n",
    "if model:\n",
    "    print(\"Embedding bias detection queries...\")\n",
    "    query_embeddings = model.encode(bias_queries)\n",
    "    print(f\"Query embedding complete. Shape: {query_embeddings.shape}\")\n",
    "else:\n",
    "    print(\"Skipping query embedding because model could not be loaded.\")"
   ]
  },
  {
   "cell_type": "code",
   "execution_count": 21,
   "metadata": {},
   "outputs": [
    {
     "name": "stdout",
     "output_type": "stream",
     "text": [
      "Analysis complete!\n"
     ]
    }
   ],
   "source": [
    "# Cell 7: Compute similarities and find the most biased chunks\n",
    "if model:\n",
    "    # Compute similarities between each query and each chunk\n",
    "    similarity_scores = []\n",
    "    \n",
    "    for i, query_embedding in enumerate(query_embeddings):\n",
    "        similarities = cosine_similarity([query_embedding], chunk_embeddings)[0]\n",
    "        similarity_scores.append(similarities)\n",
    "        \n",
    "    # Average similarity across all bias queries for each chunk\n",
    "    avg_similarity = np.mean(similarity_scores, axis=0)\n",
    "    \n",
    "    # Get indices sorted by average similarity (highest first)\n",
    "    ranked_indices = np.argsort(avg_similarity)[::-1]\n",
    "    \n",
    "    print(\"Analysis complete!\")\n",
    "else:\n",
    "    print(\"Skipping similarity computation because model could not be loaded.\")"
   ]
  },
  {
   "cell_type": "code",
   "execution_count": 22,
   "metadata": {},
   "outputs": [
    {
     "name": "stdout",
     "output_type": "stream",
     "text": [
      "\n",
      "=== POTENTIALLY BIASED TEXT CHUNKS (RANKED) ===\n",
      "\n",
      "Bias Rank #1\n",
      "Similarity Score: 0.6017\n",
      "Text: Immigration policy continues to highlight partisan divides. Liberal groups emphasize humanitarian concerns and the economic benefits of immigration, while conservative voices focus on national security, rule of law, and impacts on domestic workers.\n",
      "--------------------------------------------------------------------------------\n",
      "Bias Rank #2\n",
      "Similarity Score: 0.5728\n",
      "Text: Healthcare remains another divisive issue. Progressive politicians champion universal healthcare systems, claiming healthcare is a fundamental human right that shouldn't be subject to profit motives. They point to disparities in access as evidence of systemic injustice. Conservative policy experts counter that government-run healthcare would lead to inefficiencies, reduced innovation, and diminished quality of care. They prefer solutions that enhance competition and consumer choice.\n",
      "--------------------------------------------------------------------------------\n",
      "Bias Rank #3\n",
      "Similarity Score: 0.5660\n",
      "Text: The role of government in education sparks heated debates. Left-leaning educators push for increased federal funding and standardized approaches to ensure equity. Right-leaning stakeholders advocate for local control, school choice, and parental rights in curriculum decisions.\n",
      "--------------------------------------------------------------------------------\n",
      "Bias Rank #4\n",
      "Similarity Score: 0.5636\n",
      "Text: The debate over climate change has intensified in recent years. Liberal activists argue that immediate government action is essential to prevent catastrophic consequences. They advocate for sweeping regulations and massive public investments to transition to renewable energy sources. Meanwhile, conservative voices suggest a more measured approach, emphasizing the economic impacts of rapid policy changes and advocating for market-based solutions. Some even question the scientific consensus regarding human impact on climate patterns.\n",
      "--------------------------------------------------------------------------------\n",
      "Bias Rank #5\n",
      "Similarity Score: 0.5526\n",
      "Text: Discussions about economic policy reveal fundamentally different worldviews. Progressive economists promote higher taxes on corporations and the wealthy to fund social programs and reduce inequality. Conservative economists maintain that lower taxes and reduced regulations create jobs and prosperity for all sectors of society.\n",
      "--------------------------------------------------------------------------------\n",
      "\n",
      "=== BREAKDOWN BY BIAS TYPE ===\n",
      "\n",
      "\n",
      "Bias Type: This text shows political partisan bias in its foundation or claims\n",
      "Top example (score: 0.6480):\n",
      "Immigration policy continues to highlight partisan divides. Liberal groups emphasize humanitarian concerns and the economic benefits of immigration, while conservative voices focus on national security, rule of law, and impacts on domestic workers.\n",
      "\n",
      "Bias Type: This text uses politically charged language or framing\n",
      "Top example (score: 0.6215):\n",
      "Immigration policy continues to highlight partisan divides. Liberal groups emphasize humanitarian concerns and the economic benefits of immigration, while conservative voices focus on national security, rule of law, and impacts on domestic workers.\n",
      "\n",
      "Bias Type: This statement presents a one-sided political viewpoint without acknowledging alternatives\n",
      "Top example (score: 0.6123):\n",
      "Immigration policy continues to highlight partisan divides. Liberal groups emphasize humanitarian concerns and the economic benefits of immigration, while conservative voices focus on national security, rule of law, and impacts on domestic workers.\n",
      "\n",
      "Bias Type: This text contains unsupported political claims presented as facts\n",
      "Top example (score: 0.5349):\n",
      "Healthcare remains another divisive issue. Progressive politicians champion universal healthcare systems, claiming healthcare is a fundamental human right that shouldn't be subject to profit motives. They point to disparities in access as evidence of systemic injustice. Conservative policy experts counter that government-run healthcare would lead to inefficiencies, reduced innovation, and diminished quality of care. They prefer solutions that enhance competition and consumer choice.\n"
     ]
    }
   ],
   "source": [
    "# Cell 8: Display results - chunks with potential political bias\n",
    "if model:\n",
    "    print(\"\\n=== POTENTIALLY BIASED TEXT CHUNKS (RANKED) ===\\n\")\n",
    "    \n",
    "    for i, idx in enumerate(ranked_indices[:5]):  # Show top 5 biased chunks\n",
    "        print(f\"Bias Rank #{i+1}\")\n",
    "        print(f\"Similarity Score: {avg_similarity[idx]:.4f}\")\n",
    "        print(f\"Text: {chunks[idx]}\")\n",
    "        print(\"-\" * 80)\n",
    "        \n",
    "    # Optional: Create a breakdown by bias type\n",
    "    print(\"\\n=== BREAKDOWN BY BIAS TYPE ===\\n\")\n",
    "    \n",
    "    for i, query in enumerate(bias_queries):\n",
    "        print(f\"\\nBias Type: {query}\")\n",
    "        top_idx = np.argsort(similarity_scores[i])[::-1][0]\n",
    "        print(f\"Top example (score: {similarity_scores[i][top_idx]:.4f}):\")\n",
    "        print(chunks[top_idx])\n",
    "else:\n",
    "    print(\"Cannot display results because model could not be loaded.\")"
   ]
  },
  {
   "cell_type": "code",
   "execution_count": 23,
   "metadata": {},
   "outputs": [
    {
     "name": "stdout",
     "output_type": "stream",
     "text": [
      "Prepared 5 biased chunks for export\n",
      "Example of JSON output structure:\n",
      "[\n",
      "  {\n",
      "    \"text\": \"Immigration policy continues to highlight partisan divides. Liberal groups emphasize humanitarian concerns and the economic benefits of immigration, while conservative voices focus on national security, rule of law, and impacts on domestic workers.\",\n",
      "    \"bias_score\": 0.6016808152...\n"
     ]
    }
   ],
   "source": [
    "# Cell 9: Export biased chunks (optional)\n",
    "if model:\n",
    "    # Create a list of biased chunks with scores for potential export\n",
    "    biased_chunks = [\n",
    "        {\n",
    "            \"text\": chunks[idx],\n",
    "            \"bias_score\": float(avg_similarity[idx]),\n",
    "            \"rank\": i+1\n",
    "        }\n",
    "        for i, idx in enumerate(ranked_indices[:10])  # Top 10 biased chunks\n",
    "    ]\n",
    "    \n",
    "    # You can export this to CSV, JSON, etc.\n",
    "    print(f\"Prepared {len(biased_chunks)} biased chunks for export\")\n",
    "    \n",
    "    # Example: Convert to JSON string\n",
    "    import json\n",
    "    json_output = json.dumps(biased_chunks, indent=2)\n",
    "    print(\"Example of JSON output structure:\")\n",
    "    print(json_output[:300] + \"...\" if len(json_output) > 300 else json_output)"
   ]
  }
 ],
 "metadata": {
  "kernelspec": {
   "display_name": "ERNIE_NEW",
   "language": "python",
   "name": "python3"
  },
  "language_info": {
   "codemirror_mode": {
    "name": "ipython",
    "version": 3
   },
   "file_extension": ".py",
   "mimetype": "text/x-python",
   "name": "python",
   "nbconvert_exporter": "python",
   "pygments_lexer": "ipython3",
   "version": "3.10.16"
  }
 },
 "nbformat": 4,
 "nbformat_minor": 2
}
